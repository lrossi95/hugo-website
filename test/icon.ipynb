{
 "cells": [
  {
   "cell_type": "code",
   "execution_count": 125,
   "metadata": {},
   "outputs": [],
   "source": [
    "from PIL import Image\n",
    "from tqdm import trange\n",
    "\n",
    "# Define the size of the square image\n",
    "size = 512\n",
    "\n",
    "# Create a new square image in RGB mode\n",
    "image = Image.new(\"RGB\", (size, size))\n",
    "\n",
    "# Access the pixel data of the image\n",
    "pixels = image.load()\n",
    "\n",
    "# Loop over each pixel in the image\n",
    "for y in range(size):\n",
    "    for x in range(size):\n",
    "        # Example: Set each pixel to a gradient color based on its position\n",
    "        red = x * 255 // (3 * (size - 1))\n",
    "        green = y * 255 // (15 * (size - 1))\n",
    "        blue = (x + y) * 255 // (3 * (size - 1))\n",
    "        pixels[x, y] = (red, green, blue)\n",
    "# Save the resulting image\n",
    "image.save(\"gradient_square.png\")"
   ]
  },
  {
   "cell_type": "code",
   "execution_count": 126,
   "metadata": {},
   "outputs": [
    {
     "data": {
      "image/jpeg": "[encoded data removed]",
      "image/png": "[encoded data removed]",
      "text/plain": [
       "<PIL.Image.Image image mode=RGB size=512x512>"
      ]
     },
     "execution_count": 126,
     "metadata": {},
     "output_type": "execute_result"
    }
   ],
   "source": [
    "image"
   ]
  },
  {
   "cell_type": "code",
   "execution_count": 201,
   "metadata": {},
   "outputs": [
    {
     "ename": "KeyboardInterrupt",
     "evalue": "",
     "output_type": "error",
     "traceback": [
      "\u001b[0;31m---------------------------------------------------------------------------\u001b[0m",
      "\u001b[0;31mKeyboardInterrupt\u001b[0m                         Traceback (most recent call last)",
      "Cell \u001b[0;32mIn[201], line 45\u001b[0m\n\u001b[1;32m     42\u001b[0m theta \u001b[38;5;241m=\u001b[39m math\u001b[38;5;241m.\u001b[39matan2(dy, dx)\n\u001b[1;32m     44\u001b[0m \u001b[38;5;66;03m# Calculate r using the sinusoidal function with animation offset\u001b[39;00m\n\u001b[0;32m---> 45\u001b[0m r \u001b[38;5;241m=\u001b[39m max_radius \u001b[38;5;241m*\u001b[39m math\u001b[38;5;241m.\u001b[39msin(\u001b[38;5;241m2\u001b[39m \u001b[38;5;241m*\u001b[39m theta \u001b[38;5;241m*\u001b[39m a \u001b[38;5;241m+\u001b[39m frame \u001b[38;5;241m*\u001b[39m \u001b[38;5;241m0.1\u001b[39m)\n\u001b[1;32m     47\u001b[0m \u001b[38;5;66;03m# If the pixel is within the radius defined by the function, overlay the pattern\u001b[39;00m\n\u001b[1;32m     48\u001b[0m \u001b[38;5;28;01mif\u001b[39;00m \u001b[38;5;28mabs\u001b[39m(radius \u001b[38;5;241m-\u001b[39m \u001b[38;5;28mabs\u001b[39m(r)) \u001b[38;5;241m<\u001b[39m \u001b[38;5;241m2\u001b[39m:  \u001b[38;5;66;03m# Thickness of the pattern\u001b[39;00m\n",
      "\u001b[0;31mKeyboardInterrupt\u001b[0m: "
     ]
    }
   ],
   "source": [
    "import math\n",
    "from PIL import Image, ImageDraw\n",
    "import os\n",
    "\n",
    "# Define the size of the square image\n",
    "size = 256\n",
    "frames = []\n",
    "num_frames = 60  # Number of frames in the animation\n",
    "\n",
    "# Center of the image\n",
    "center_x = size // 2\n",
    "center_y = size // 2\n",
    "\n",
    "# Parameter for the function r = sin(2 * theta * a)\n",
    "a = 2  # Frequency of the sinusoidal pattern\n",
    "\n",
    "# Maximum radius for the sinusoidal pattern\n",
    "max_radius = size // 3\n",
    "\n",
    "# Create an animation\n",
    "for frame in range(num_frames):\n",
    "    # Create a new square image in RGB mode\n",
    "    image = Image.new(\"RGB\", (size, size))\n",
    "    pixels = image.load()\n",
    "\n",
    "    # Create the gradient background\n",
    "    for y in range(size):\n",
    "        for x in range(size):\n",
    "            red = x * 255 // (3 * (size - 1))\n",
    "            green = y * 255 // (15 * (size - 1))\n",
    "            blue = (x + y) * 255 // (3 * (size - 1))\n",
    "            pixels[x, y] = (red, green, blue)\n",
    "\n",
    "    # Overlay the sinusoidal pattern\n",
    "    for x in range(size):\n",
    "        for y in range(size):\n",
    "            dx = x - center_x\n",
    "            dy = y - center_y\n",
    "\n",
    "            # Calculate the distance and angle from the center\n",
    "            radius = math.sqrt(dx**2 + dy**2)\n",
    "            theta = math.atan2(dy, dx)\n",
    "\n",
    "            # Calculate r using the sinusoidal function with animation offset\n",
    "            r = max_radius * math.sin(2 * theta * a + frame * 0.1)\n",
    "\n",
    "            # If the pixel is within the radius defined by the function, overlay the pattern\n",
    "            if abs(radius - abs(r)) < 2:  # Thickness of the pattern\n",
    "                image.putpixel((x, y), (255, 255, 255))  # White color for the pattern\n",
    "\n",
    "    # Append frame to the animation\n",
    "    frames.append(image)\n",
    "\n",
    "# Save the animation as a GIF\n",
    "frames[0].save(\n",
    "    \"sinusoidal_pattern_animation.gif\",\n",
    "    save_all=True,\n",
    "    append_images=frames[1:],\n",
    "    duration=50,  # Frame duration in milliseconds\n",
    "    loop=0\n",
    ")"
   ]
  },
  {
   "cell_type": "code",
   "execution_count": 1,
   "metadata": {},
   "outputs": [],
   "source": [
    "from PIL import Image\n",
    "from tqdm import trange\n",
    "import numpy as np\n",
    "\n",
    "# Define the size of the square image\n",
    "size = 256\n",
    "frames = []\n",
    "num_frames = 1000  # Number of frames in the animation\n",
    "\n",
    "# Create a new square image in RGB mode\n",
    "image = Image.new(\"RGB\", (size, size))\n",
    "\n",
    "# Access the pixel data of the image\n",
    "pixels = image.load()\n",
    "\n",
    "# Create a meshgrid for vectorized computations\n",
    "x = np.linspace(0, size - 1, size)\n",
    "y = np.linspace(0, size - 1, size)\n",
    "X, Y = np.meshgrid(x, y)\n",
    "\n",
    "# Function to generate the gradient for each frame\n",
    "def generate_frame(frame):\n",
    "    red = (X * 255) // ((frame + 1) * (size - 1))\n",
    "    green = (Y * 255) // ((frame + 15) * (size - 1))\n",
    "    blue = ((X + Y) * 255) // ((frame + 3) * (size - 1))\n",
    "    return np.stack([red, green, blue], axis=-1).astype(np.uint8)\n",
    "\n",
    "for frame in range(num_frames):\n",
    "    immagine = Image.fromarray(generate_frame(frame))\n",
    "    # Append frame to the animation\n",
    "    frames.append(immagine)"
   ]
  },
  {
   "cell_type": "code",
   "execution_count": 2,
   "metadata": {},
   "outputs": [],
   "source": [
    "\n",
    "# Save the animation as a GIF\n",
    "frames[0].save(\n",
    "    \"sinusoidal_pattern_animation.gif\",\n",
    "    save_all=True,\n",
    "    append_images=frames,\n",
    "    duration=50,  # Frame duration in milliseconds\n",
    "    loop=1\n",
    ")"
   ]
  },
  {
   "cell_type": "code",
   "execution_count": null,
   "metadata": {},
   "outputs": [],
   "source": []
  },
  {
   "cell_type": "code",
   "execution_count": null,
   "metadata": {},
   "outputs": [],
   "source": []
  }
 ],
 "metadata": {
  "kernelspec": {
   "display_name": "data_analysis",
   "language": "python",
   "name": "python3"
  },
  "language_info": {
   "codemirror_mode": {
    "name": "ipython",
    "version": 3
   },
   "file_extension": ".py",
   "mimetype": "text/x-python",
   "name": "python",
   "nbconvert_exporter": "python",
   "pygments_lexer": "ipython3",
   "version": "3.11.8"
  }
 },
 "nbformat": 4,
 "nbformat_minor": 2
}
